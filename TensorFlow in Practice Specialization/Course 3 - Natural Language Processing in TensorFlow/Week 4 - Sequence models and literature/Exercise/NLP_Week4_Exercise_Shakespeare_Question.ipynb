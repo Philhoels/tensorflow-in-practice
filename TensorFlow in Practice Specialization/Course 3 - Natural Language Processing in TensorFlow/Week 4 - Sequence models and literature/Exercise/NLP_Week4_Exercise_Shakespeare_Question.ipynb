{
  "nbformat": 4,
  "nbformat_minor": 0,
  "metadata": {
    "accelerator": "GPU",
    "colab": {
      "name": "NLP_Week4_Exercise_Shakespeare_Question.ipynb",
      "provenance": [],
      "toc_visible": true
    },
    "kernelspec": {
      "display_name": "Python 3",
      "name": "python3"
    }
  },
  "cells": [
    {
      "cell_type": "code",
      "metadata": {
        "colab_type": "code",
        "id": "BOwsuGQQY9OL",
        "colab": {}
      },
      "source": [
        "from tensorflow.keras.preprocessing.sequence import pad_sequences\n",
        "from tensorflow.keras.layers import Embedding, LSTM, Dense, Dropout, Bidirectional\n",
        "from tensorflow.keras.preprocessing.text import Tokenizer\n",
        "from tensorflow.keras.models import Sequential\n",
        "from tensorflow.keras.optimizers import Adam\n",
        "### YOUR CODE HERE\n",
        "# Figure out how to import regularizers\n",
        "from tensorflow.keras import regularizers\n",
        "###\n",
        "import tensorflow.keras.utils as ku \n",
        "import numpy as np "
      ],
      "execution_count": 0,
      "outputs": []
    },
    {
      "cell_type": "code",
      "metadata": {
        "colab_type": "code",
        "id": "PRnDnCW-Z7qv",
        "colab": {
          "base_uri": "https://localhost:8080/",
          "height": 204
        },
        "outputId": "017df8cc-7154-4c6c-dd9b-7f8ecdad7cfb"
      },
      "source": [
        "tokenizer = Tokenizer()\n",
        "!wget --no-check-certificate \\\n",
        "    https://storage.googleapis.com/laurencemoroney-blog.appspot.com/sonnets.txt \\\n",
        "    -O /tmp/sonnets.txt\n",
        "data = open('/tmp/sonnets.txt').read()\n",
        "\n",
        "corpus = data.lower().split(\"\\n\")\n",
        "\n",
        "\n",
        "tokenizer.fit_on_texts(corpus)\n",
        "total_words = len(tokenizer.word_index) + 1\n",
        "\n",
        "# create input sequences using list of tokens\n",
        "input_sequences = []\n",
        "for line in corpus:\n",
        "\ttoken_list = tokenizer.texts_to_sequences([line])[0]\n",
        "\tfor i in range(1, len(token_list)):\n",
        "\t\tn_gram_sequence = token_list[:i+1]\n",
        "\t\tinput_sequences.append(n_gram_sequence)\n",
        "\n",
        "\n",
        "# pad sequences \n",
        "max_sequence_len = max([len(x) for x in input_sequences])\n",
        "input_sequences = np.array(pad_sequences(input_sequences, maxlen=max_sequence_len, padding='pre'))\n",
        "\n",
        "# create predictors and label\n",
        "predictors, label = input_sequences[:,:-1],input_sequences[:,-1]\n",
        "\n",
        "label = ku.to_categorical(label, num_classes=total_words)"
      ],
      "execution_count": 41,
      "outputs": [
        {
          "output_type": "stream",
          "text": [
            "--2020-04-04 17:04:33--  https://storage.googleapis.com/laurencemoroney-blog.appspot.com/sonnets.txt\n",
            "Resolving storage.googleapis.com (storage.googleapis.com)... 108.177.127.128, 2a00:1450:4013:c00::80\n",
            "Connecting to storage.googleapis.com (storage.googleapis.com)|108.177.127.128|:443... connected.\n",
            "HTTP request sent, awaiting response... 200 OK\n",
            "Length: 93578 (91K) [text/plain]\n",
            "Saving to: ‘/tmp/sonnets.txt’\n",
            "\n",
            "\r/tmp/sonnets.txt      0%[                    ]       0  --.-KB/s               \r/tmp/sonnets.txt    100%[===================>]  91.38K  --.-KB/s    in 0.001s  \n",
            "\n",
            "2020-04-04 17:04:33 (104 MB/s) - ‘/tmp/sonnets.txt’ saved [93578/93578]\n",
            "\n"
          ],
          "name": "stdout"
        }
      ]
    },
    {
      "cell_type": "code",
      "metadata": {
        "id": "jQmYC_Dc_Zzd",
        "colab_type": "code",
        "colab": {
          "base_uri": "https://localhost:8080/",
          "height": 34
        },
        "outputId": "6503164b-618f-41b1-ec02-51b7355b8073"
      },
      "source": [
        "# here I init all variable values for the model\n",
        "dim = 100\n",
        "LSTM_units1 = 150\n",
        "LSTM_units2 = 100\n",
        "dropout_rate = 0.2\n",
        "hidden_layers = 120\n",
        "output_layers = total_words\n",
        "print(\"Total words: {}\".format(total_words))\n",
        "regularizers = regularizers.l2(l=0.01)\n",
        "epochs = 33 \n",
        "# epochs = 10 accuracy: 0.0434\n",
        "# epochs = 33 accuracy: 0.2448\n",
        "# would need up to 100 epochs to generate good accuracy\n",
        "# with 5s per epoch would take this around 7,5 min"
      ],
      "execution_count": 42,
      "outputs": [
        {
          "output_type": "stream",
          "text": [
            "Total words: 3211\n"
          ],
          "name": "stdout"
        }
      ]
    },
    {
      "cell_type": "code",
      "metadata": {
        "colab_type": "code",
        "id": "w9vH8Y59ajYL",
        "colab": {
          "base_uri": "https://localhost:8080/",
          "height": 374
        },
        "outputId": "1557af27-b3f0-4c36-8655-67b0f3b1e865"
      },
      "source": [
        "model = Sequential()\n",
        "model.add(Embedding(total_words, dim, input_length = max_sequence_len-1))# Your Embedding Layer)\n",
        "model.add(LSTM(units = LSTM_units1, return_sequences = True))# An LSTM Layer)\n",
        "model.add(Dropout(rate = dropout_rate))# A dropout layer)\n",
        "model.add(LSTM(units = LSTM_units2))# Another LSTM Layer)\n",
        "model.add(Dense(units = total_words/2, \n",
        "                activation='relu', \n",
        "                kernel_regularizer = regularizers)) # A Dense Layer including regularizers)\n",
        "model.add(Dense(units = output_layers, activation = \"softmax\"))# A Dense Layer)\n",
        "# Pick an optimizer\n",
        "model.compile(optimizer = \"adam\",\n",
        "              loss = \"categorical_crossentropy\",\n",
        "              metrics = [\"accuracy\"])# Pick a loss function and an optimizer)\n",
        "print(model.summary())\n"
      ],
      "execution_count": 43,
      "outputs": [
        {
          "output_type": "stream",
          "text": [
            "Model: \"sequential_12\"\n",
            "_________________________________________________________________\n",
            "Layer (type)                 Output Shape              Param #   \n",
            "=================================================================\n",
            "embedding_10 (Embedding)     (None, 10, 100)           321100    \n",
            "_________________________________________________________________\n",
            "lstm_18 (LSTM)               (None, 10, 150)           150600    \n",
            "_________________________________________________________________\n",
            "dropout_9 (Dropout)          (None, 10, 150)           0         \n",
            "_________________________________________________________________\n",
            "lstm_19 (LSTM)               (None, 100)               100400    \n",
            "_________________________________________________________________\n",
            "dense_9 (Dense)              (None, 1605)              162105    \n",
            "_________________________________________________________________\n",
            "dense_10 (Dense)             (None, 3211)              5156866   \n",
            "=================================================================\n",
            "Total params: 5,891,071\n",
            "Trainable params: 5,891,071\n",
            "Non-trainable params: 0\n",
            "_________________________________________________________________\n",
            "None\n"
          ],
          "name": "stdout"
        }
      ]
    },
    {
      "cell_type": "code",
      "metadata": {
        "colab_type": "code",
        "id": "AIg2f1HBxqof",
        "colab": {
          "base_uri": "https://localhost:8080/",
          "height": 1000
        },
        "outputId": "56271dcb-9659-4524-90ed-12cebef7fee9"
      },
      "source": [
        " history = model.fit(predictors, label, epochs=epochs, verbose=1)"
      ],
      "execution_count": 44,
      "outputs": [
        {
          "output_type": "stream",
          "text": [
            "Epoch 1/33\n",
            "484/484 [==============================] - 5s 11ms/step - loss: 6.9346 - accuracy: 0.0230\n",
            "Epoch 2/33\n",
            "484/484 [==============================] - 6s 12ms/step - loss: 6.5164 - accuracy: 0.0215\n",
            "Epoch 3/33\n",
            "484/484 [==============================] - 5s 11ms/step - loss: 6.4161 - accuracy: 0.0217\n",
            "Epoch 4/33\n",
            "484/484 [==============================] - 5s 11ms/step - loss: 6.3285 - accuracy: 0.0294\n",
            "Epoch 5/33\n",
            "484/484 [==============================] - 6s 12ms/step - loss: 6.2137 - accuracy: 0.0343\n",
            "Epoch 6/33\n",
            "484/484 [==============================] - 6s 11ms/step - loss: 6.1198 - accuracy: 0.0389\n",
            "Epoch 7/33\n",
            "484/484 [==============================] - 5s 11ms/step - loss: 6.0257 - accuracy: 0.0404\n",
            "Epoch 8/33\n",
            "484/484 [==============================] - 5s 11ms/step - loss: 5.9479 - accuracy: 0.0432\n",
            "Epoch 9/33\n",
            "484/484 [==============================] - 5s 11ms/step - loss: 5.8672 - accuracy: 0.0444\n",
            "Epoch 10/33\n",
            "484/484 [==============================] - 5s 11ms/step - loss: 5.7807 - accuracy: 0.0449\n",
            "Epoch 11/33\n",
            "484/484 [==============================] - 5s 11ms/step - loss: 5.6887 - accuracy: 0.0512\n",
            "Epoch 12/33\n",
            "484/484 [==============================] - 6s 11ms/step - loss: 5.5965 - accuracy: 0.0554\n",
            "Epoch 13/33\n",
            "484/484 [==============================] - 6s 11ms/step - loss: 5.4985 - accuracy: 0.0630\n",
            "Epoch 14/33\n",
            "484/484 [==============================] - 6s 12ms/step - loss: 5.3963 - accuracy: 0.0708\n",
            "Epoch 15/33\n",
            "484/484 [==============================] - 5s 11ms/step - loss: 5.2987 - accuracy: 0.0805\n",
            "Epoch 16/33\n",
            "484/484 [==============================] - 5s 11ms/step - loss: 5.1960 - accuracy: 0.0841\n",
            "Epoch 17/33\n",
            "484/484 [==============================] - 5s 11ms/step - loss: 5.1024 - accuracy: 0.0916\n",
            "Epoch 18/33\n",
            "484/484 [==============================] - 5s 11ms/step - loss: 5.0175 - accuracy: 0.1010\n",
            "Epoch 19/33\n",
            "484/484 [==============================] - 5s 11ms/step - loss: 4.9187 - accuracy: 0.1096\n",
            "Epoch 20/33\n",
            "484/484 [==============================] - 5s 11ms/step - loss: 4.8419 - accuracy: 0.1144\n",
            "Epoch 21/33\n",
            "484/484 [==============================] - 5s 11ms/step - loss: 4.7491 - accuracy: 0.1248\n",
            "Epoch 22/33\n",
            "484/484 [==============================] - 5s 11ms/step - loss: 4.6733 - accuracy: 0.1305\n",
            "Epoch 23/33\n",
            "484/484 [==============================] - 5s 11ms/step - loss: 4.5834 - accuracy: 0.1423\n",
            "Epoch 24/33\n",
            "484/484 [==============================] - 6s 12ms/step - loss: 4.5072 - accuracy: 0.1504\n",
            "Epoch 25/33\n",
            "484/484 [==============================] - 6s 12ms/step - loss: 4.4157 - accuracy: 0.1593\n",
            "Epoch 26/33\n",
            "484/484 [==============================] - 5s 11ms/step - loss: 4.3377 - accuracy: 0.1682\n",
            "Epoch 27/33\n",
            "484/484 [==============================] - 5s 11ms/step - loss: 4.2521 - accuracy: 0.1812\n",
            "Epoch 28/33\n",
            "484/484 [==============================] - 5s 11ms/step - loss: 4.1727 - accuracy: 0.1913\n",
            "Epoch 29/33\n",
            "484/484 [==============================] - 6s 12ms/step - loss: 4.0888 - accuracy: 0.1997\n",
            "Epoch 30/33\n",
            "484/484 [==============================] - 6s 11ms/step - loss: 4.0101 - accuracy: 0.2092\n",
            "Epoch 31/33\n",
            "484/484 [==============================] - 5s 11ms/step - loss: 3.9334 - accuracy: 0.2218\n",
            "Epoch 32/33\n",
            "484/484 [==============================] - 5s 11ms/step - loss: 3.8637 - accuracy: 0.2304\n",
            "Epoch 33/33\n",
            "484/484 [==============================] - 5s 11ms/step - loss: 3.7784 - accuracy: 0.2448\n"
          ],
          "name": "stdout"
        }
      ]
    },
    {
      "cell_type": "code",
      "metadata": {
        "colab_type": "code",
        "id": "1fXTEO3GJ282",
        "colab": {
          "base_uri": "https://localhost:8080/",
          "height": 545
        },
        "outputId": "48802336-faad-4e8a-cc96-e955a3196e07"
      },
      "source": [
        "import matplotlib.pyplot as plt\n",
        "acc = history.history['accuracy']\n",
        "loss = history.history['loss']\n",
        "\n",
        "epochs = range(len(acc))\n",
        "\n",
        "plt.plot(epochs, acc, 'b', label='Training accuracy')\n",
        "plt.title('Training accuracy')\n",
        "\n",
        "plt.figure()\n",
        "\n",
        "plt.plot(epochs, loss, 'b', label='Training Loss')\n",
        "plt.title('Training loss')\n",
        "plt.legend()\n",
        "\n",
        "plt.show()"
      ],
      "execution_count": 45,
      "outputs": [
        {
          "output_type": "display_data",
          "data": {
            "image/png": "[encoded data removed]",
            "text/plain": [
              "<Figure size 432x288 with 1 Axes>"
            ]
          },
          "metadata": {
            "tags": []
          }
        },
        {
          "output_type": "display_data",
          "data": {
            "image/png": "[encoded data removed]",
            "text/plain": [
              "<Figure size 432x288 with 1 Axes>"
            ]
          },
          "metadata": {
            "tags": []
          }
        }
      ]
    },
    {
      "cell_type": "code",
      "metadata": {
        "colab_type": "code",
        "id": "6Vc6PHgxa6Hm",
        "colab": {
          "base_uri": "https://localhost:8080/",
          "height": 105
        },
        "outputId": "d126d9ca-67dc-41a1-959d-cbbb30c76a42"
      },
      "source": [
        "seed_text = \"Help me Obi Wan Kenobi, you're my only hope\"\n",
        "next_words = 10\n",
        "  \n",
        "for _ in range(next_words):\n",
        "\ttoken_list = tokenizer.texts_to_sequences([seed_text])[0]\n",
        "\ttoken_list = pad_sequences([token_list], maxlen=max_sequence_len-1, padding='pre')\n",
        "\tpredicted = model.predict_classes(token_list, verbose=0)\n",
        "\toutput_word = \"\"\n",
        "\tfor word, index in tokenizer.word_index.items():\n",
        "\t\tif index == predicted:\n",
        "\t\t\toutput_word = word\n",
        "\t\t\tbreak\n",
        "\tseed_text += \" \" + output_word\n",
        "print(seed_text)"
      ],
      "execution_count": 46,
      "outputs": [
        {
          "output_type": "stream",
          "text": [
            "WARNING:tensorflow:From <ipython-input-46-809605562b50>:7: Sequential.predict_classes (from tensorflow.python.keras.engine.sequential) is deprecated and will be removed after 2021-01-01.\n",
            "Instructions for updating:\n",
            "Please use instead:* `np.argmax(model.predict(x), axis=-1)`,   if your model does multi-class classification   (e.g. if it uses a `softmax` last-layer activation).* `(model.predict(x) > 0.5).astype(\"int32\")`,   if your model does binary classification   (e.g. if it uses a `sigmoid` last-layer activation).\n",
            "Help me Obi Wan Kenobi, you're my only hope do you away prove forth cross days days shines so\n"
          ],
          "name": "stdout"
        }
      ]
    }
  ]
}